{
  "nbformat": 4,
  "nbformat_minor": 0,
  "metadata": {
    "colab": {
      "provenance": []
    },
    "kernelspec": {
      "name": "python3",
      "display_name": "Python 3"
    },
    "language_info": {
      "name": "python"
    }
  },
  "cells": [
    {
      "cell_type": "markdown",
      "source": [
        "Q 1. What is the difference between interpreted and compiled languages\n",
        "- Compiled Languages:\n",
        "Translation: The entire program is translated into machine code (or bytecode) by a compiler before it's run.\n",
        "Execution: The compiled program can then be executed directly by the operating system without further translation.\n",
        "Examples: C, C++, Java (though Java is also interpreted via bytecode).\n",
        "\n",
        "- Interpreted Languages:\n",
        "Translation: The code is translated and executed line by line by an interpreter, as the program runs.\n",
        "Execution: The interpreter reads and executes each line of code, making it less efficient than compiled languages.\n",
        "Examples: Python, JavaScript, PHP, and SQL."
      ],
      "metadata": {
        "id": "kARzUTdBD9s-"
      }
    },
    {
      "cell_type": "markdown",
      "source": [
        "Q 2.What is exception handling in Python\n",
        "- Exception handling in Python is a process of resolving errors that occur in a program."
      ],
      "metadata": {
        "id": "zy5V92z5D9oD"
      }
    },
    {
      "cell_type": "markdown",
      "source": [
        "Q 3. What is the purpose of the finally block in exception handling\n",
        "- The purpose of the finally block in exception handling is to ensure that a specific piece of code, usually cleanup operations, is executed regardless of whether an exception is thrown within the preceding try block"
      ],
      "metadata": {
        "id": "Z2gv6-KcD9hR"
      }
    },
    {
      "cell_type": "markdown",
      "source": [
        "Q 4.What is logging in Python\n",
        "- Logging in Python refers to the process of recording events that occur during the execution of a program. It is a crucial practice for debugging, monitoring, and understanding the behavior of software applications."
      ],
      "metadata": {
        "id": "PTM1r5-RD9bD"
      }
    },
    {
      "cell_type": "markdown",
      "source": [
        "Q 5. What is the significance of the __del__ method in Python\n",
        "- The __del__ method in Python, also known as a destructor, defines actions to be performed when an object is garbage collected. It is called automatically when all references to an object have been deleted, and the object is about to be destroyed. While it might seem useful for resource cleanup, its behavior can be unpredictable, and its use is generally discouraged in favor of more reliable alternatives."
      ],
      "metadata": {
        "id": "clbm-K4zD9Uj"
      }
    },
    {
      "cell_type": "markdown",
      "source": [
        "Q 6.What is the difference between import and from ... import in Python\n",
        "- import module_name:\n",
        "This statement imports the entire module. To access items within the module, you use the module name as a prefix followed by a dot and the item's name (e.g., module_name.item_name). This approach keeps the namespace clean and avoids naming conflicts, especially when working with multiple modules.\n",
        "\n",
        "- from module_name import item_name:\n",
        "This statement imports specific items (functions, classes, variables) directly into the current namespace. You can then use these items without the module name prefix (e.g., item_name). While convenient, this approach can lead to naming conflicts if multiple modules define items with the same name."
      ],
      "metadata": {
        "id": "_xO8xHE1D9Ns"
      }
    },
    {
      "cell_type": "markdown",
      "source": [
        "Q 7.How can you handle multiple exceptions in Python\n",
        "- n Python, multiple exceptions can be handled using several approaches:\n",
        "\n",
        "Using a tuple of exceptions: This is the most common and recommended way. It involves specifying multiple exception types within a single except block using a tuple. If any of the listed exceptions occur, the code within that except block will be executed.\n",
        "\n",
        "Using multiple except blocks: This approach provides more granular control, allowing different exception types to be handled separately. Each except block targets a specific exception type.\n",
        "\n",
        "Using a parent exception class: If you want to handle a group of related exceptions in the same way, you can catch their parent class. For example, Exception is the base class for most built-in exceptions, so catching it will handle many different error types. However, it's generally better to be more specific when catching exceptions to avoid masking unexpected errors.\n",
        "\n",
        "One-line try-except: For handling minor errors without disrupting the program flow, a compact one-line try-except syntax can be used."
      ],
      "metadata": {
        "id": "wypXOswAD9J0"
      }
    },
    {
      "cell_type": "markdown",
      "source": [
        "Q 8.What is the purpose of the with statement when handling files in Python\n",
        "- The with statement in Python is used for resource management, particularly for file handling, by ensuring that resources are properly acquired and released"
      ],
      "metadata": {
        "id": "IuI3jYoND9GU"
      }
    },
    {
      "cell_type": "markdown",
      "source": [
        "Q 9.What is the difference between multithreading and multiprocessing\n",
        "- Multithreading creates multiple threads within a single process, allowing for concurrent execution within that process, while multiprocessing creates multiple processes, each with its own resources, enabling parallel execution across multiple processors."
      ],
      "metadata": {
        "id": "We8vuuCHD9C4"
      }
    },
    {
      "cell_type": "markdown",
      "source": [
        "Q 10.What are the advantages of using logging in a program\n",
        "- Real-Time Visibility and Alerts. Logging, in its basic form, is a way to keep records of what is happening with a particular piece of software. ...\n",
        "Efficient & Transparent Developer-Administrator Communication. ...\n",
        "Problem Localization & Troubleshooting. ...\n",
        "Auditing Capabilities & Security Compliance."
      ],
      "metadata": {
        "id": "bMoocMWbD8_J"
      }
    },
    {
      "cell_type": "markdown",
      "source": [
        "Q 11. What is memory management in Python\n",
        "- Memory management in Python involves the management of a private heap"
      ],
      "metadata": {
        "id": "ovA8HX3hD87y"
      }
    },
    {
      "cell_type": "markdown",
      "source": [
        "Q 12.What are the basic steps involved in exception handling in Python\n",
        "- n Python, exceptions are caught and handled using the 'try' and 'except' block. 'try' contains the code segment which is susceptible to error, while 'except' is where the program should jump in case an exception occurs. You can use multiple 'except' blocks for handling different types of exceptions."
      ],
      "metadata": {
        "id": "clKLlKOpD84L"
      }
    },
    {
      "cell_type": "markdown",
      "source": [
        "Q 13. Why is memory management important in Python\n",
        "- Memory management is important in Python because it directly impacts the efficiency, performance, and stability of programs. Python automates memory management through techniques like garbage collection and reference counting. Efficient memory management prevents memory leaks, where unused memory is not released, and reduces the risk of program crashes due to excessive memory usage. By optimizing memory allocation and deallocation, Python ensures that programs run smoothly and can handle large amounts of data effectively, which is crucial for applications in fields like data science, machine learning, and web development.\n"
      ],
      "metadata": {
        "id": "NAOrKD8zD81B"
      }
    },
    {
      "cell_type": "markdown",
      "source": [
        "Q 14.What is the role of try and except in exception handling\n",
        "- In exception handling, the try and except blocks work together to manage potential errors or exceptions during code execution. The try block contains the code that might raise an exception, and the except block contains the code that handles the exception if one occurs"
      ],
      "metadata": {
        "id": "E36NAtKwD8x2"
      }
    },
    {
      "cell_type": "markdown",
      "source": [
        "Q 15. How does Python's garbage collection system work\n",
        "- ython employs automatic garbage collection to manage memory, primarily using a combination of reference counting and generational cyclic garbage collection.\n",
        "Reference counting keeps track of how many references an object has. When an object's reference count drops to zero, it becomes eligible for garbage collection and its memory is released. However, reference counting alone cannot handle reference cycles, where objects refer to each other, preventing their reference counts from ever reaching zero."
      ],
      "metadata": {
        "id": "RYzNE4K3D8uk"
      }
    },
    {
      "cell_type": "markdown",
      "source": [
        "Q 16.What is the purpose of the else block in exception handling\n",
        "- The else block in exception handling, often used in try...except...else structures, executes only when no exceptions are raised within the try block. It provides a way to execute code that's intended to run when the try block executes successfully, effectively separating normal execution from exception handling. |"
      ],
      "metadata": {
        "id": "yw7qeaeQD8rG"
      }
    },
    {
      "cell_type": "markdown",
      "source": [
        "Q 17. What are the common logging levels in Python\n",
        "- Level\tNumeric value\n",
        "logging.DEBUG\t10\n",
        "logging.INFO\t20\n",
        "logging.WARNING\t30\n",
        "logging.ERROR\t40\n",
        "\n"
      ],
      "metadata": {
        "id": "fo4TGmexD8ns"
      }
    },
    {
      "cell_type": "markdown",
      "source": [
        "Q 18. What is the difference between os.fork() and multiprocessing in Python\n",
        "- The only real difference between the os.fork and multiprocessing.Process is portability and library overhead, since os.fork is not supported in windows, and the multiprocessing framework is included to make multiprocessing.Process work. This is because os.fork is called by multiprocessing.Process, as this answer backs up.\n",
        "\n",
        "The important distinction, then, is os.fork copies everything in the current process using Unix's forking, which means at the time of forking both processes are the same with PID differences. In Window's, this is emulated by rerunning all the setup code before the if __name__ == '__main__':, which is roughly the same as creating a subprocess using the subprocess library.\n",
        "\n",
        "For you, the code snippets you provide are doing fairly different things above, because you call external_function in main before you open the new process in the second code clip, making the two processes run in series but in different processes. Also the pipe is unnecessary, as it emulates no functionality from the first code."
      ],
      "metadata": {
        "id": "k5Y77NTiD8je"
      }
    },
    {
      "cell_type": "markdown",
      "source": [
        "Q 19.What is the importance of closing a file in Python\n",
        "- Resource Management:\n",
        "When a file is opened, the operating system allocates resources to manage it. Failing to close the file after use can lead to resource leaks, potentially causing performance issues or crashes if too many files remain open.\n",
        "\n",
        "- Data Integrity:\n",
        "Data written to a file may be buffered, meaning it's temporarily stored in memory before being written to the disk. Closing the file ensures that all buffered data is flushed, guaranteeing data completeness and preventing corruption.\n",
        "\n",
        "- File Locking:\n",
        "Some file operations require exclusive access. If a file isn't closed, it may remain locked, preventing other processes or users from accessing it.\n",
        "\n",
        "- Code Maintainability:\n",
        "Explicitly closing files is a best practice that enhances code clarity and robustness, making it easier to understand and maintain.\n",
        "\n",
        "- Preventing Errors:\n",
        "Attempting to perform operations on a closed file will raise a ValueError, signaling that the file is no longer accessible.\n"
      ],
      "metadata": {
        "id": "uEos2qFdD8ea"
      }
    },
    {
      "cell_type": "markdown",
      "source": [
        "Q 20.What is the difference between file.read() and file.readline() in Python\n",
        "- ile.read():\n",
        "This method reads the entire file content as a single string. If a size argument is provided (e.g., file.read(10)), it reads up to that many bytes. Without an argument, it reads the entire file, potentially consuming significant memory for large files.\n",
        "\n",
        "- file.readline():\n",
        "This method reads a single line from the file, including the newline character (\\n) at the end. Each subsequent call to file.readline() will read the next line in the file, until the end of the file is reached, at which point it returns an empty string"
      ],
      "metadata": {
        "id": "FYhOWBT7D8XC"
      }
    },
    {
      "cell_type": "markdown",
      "source": [
        "Q 21.What is the logging module in Python used for\n",
        "- Python logging is a module that allows you to track events that occur while your program is running.\n"
      ],
      "metadata": {
        "id": "_-KC9Rd9D8O7"
      }
    },
    {
      "cell_type": "markdown",
      "source": [
        "Q 22.What is the os module in Python used for in file handling\n",
        "- Python has a built-in os module with methods for interacting with the operating system, like creating files and directories, management of files and directories, input, output, environment variables, process management, etc."
      ],
      "metadata": {
        "id": "2pQycP92LqYo"
      }
    },
    {
      "cell_type": "markdown",
      "source": [
        "Q 23.What are the challenges associated with memory management in Python\n",
        "\n",
        "Challenges associated with memory management in Python include:-\n",
        "\n",
        "Memory Leaks:\n",
        "Even with automatic garbage collection, memory leaks can occur, especially with circular references where objects reference each other, preventing their reference counts from reaching zero.\n",
        "\n",
        "High Memory Consumption:\n",
        "Python's dynamic typing and the overhead of objects can lead to higher memory usage compared to languages like C or C++.\n",
        "\n",
        "Garbage Collection Overhead:\n",
        "While automatic garbage collection simplifies development, it can introduce performance overhead, particularly with latency spikes during collection cycles.\n",
        "\n",
        "Fragmentation:\n",
        "Dynamic memory allocation can lead to fragmentation, where free memory is scattered, making it difficult to allocate large contiguous blocks.\n",
        "\n",
        "Limited Manual Control:\n",
        "Python abstracts away much of the memory management, offering limited manual control compared to languages where developers can explicitly allocate and deallocate memory.\n",
        "\n",
        "Memory Errors:\n",
        "When dealing with large datasets or inefficient code, programs can encounter memory errors if they consume more memory than available.\n",
        "\n",
        "Complexity of Analysis:\n",
        "Analyzing memory-related issues in Python can be complex due to the intricacies of its memory allocation system.\n",
        "\n",
        "Potential for Slower Runtimes:\n",
        "Python programs might experience slower runtimes because the program might hold onto freed memory within the interpreter instead of releasing it to the operating system.\n",
        "\n",
        "Memory Bloat:\n",
        "Applications may load large amounts of data into memory but fail to deallocate it when it's no longer in use, leading to memory bloat.\n",
        "\n",
        "Internal Fragmentation:\n",
        "Internal fragmentation can occur when memory blocks allocated to a process are larger than the requested size, resulting in wasted space.\n",
        "\n",
        "Multithreading Issues:\n",
        "Multithreading can lead to race conditions, deadlocks, and synchronization complications, affecting memory management."
      ],
      "metadata": {
        "id": "NtdwMFbXLqOa"
      }
    },
    {
      "cell_type": "markdown",
      "source": [
        "Q 24.How do you raise an exception manually in Python\n",
        "- As a Python developer you can choose to throw an exception if a condition occurs. To throw (or raise) an exception, use the raise keyword.\n"
      ],
      "metadata": {
        "id": "lX1LbL1YLqDw"
      }
    },
    {
      "cell_type": "markdown",
      "source": [
        "Q 25.Why is it important to use multithreading in certain applications?\n",
        "- Multithreading is important in applications that benefit from concurrent execution of tasks, improved responsiveness, and efficient resource utilization. By breaking down a program into smaller, independent threads, applications can perform multiple operations simultaneously, leading to faster execution, smoother user interfaces, and better utilization of CPU cores."
      ],
      "metadata": {
        "id": "gZbiMVyBLpy0"
      }
    },
    {
      "cell_type": "markdown",
      "source": [
        "PRACTICAL QUESTION"
      ],
      "metadata": {
        "id": "sbq3FHesNp3k"
      }
    },
    {
      "cell_type": "markdown",
      "source": [
        "Q 1.How can you open a file for writing in Python and write a string to it"
      ],
      "metadata": {
        "id": "MTJBsAs9N0Mz"
      }
    },
    {
      "cell_type": "code",
      "execution_count": 1,
      "metadata": {
        "colab": {
          "base_uri": "https://localhost:8080/"
        },
        "id": "v48LucNeDxVj",
        "outputId": "7b2bdf54-2d96-46ea-8794-b2bca03ea444"
      },
      "outputs": [
        {
          "output_type": "stream",
          "name": "stdout",
          "text": [
            "Created using write mode.\n",
            "Created using write mode.Content appended to the file.\n",
            "Already exists.\n"
          ]
        }
      ],
      "source": [
        "# Write mode: Creates a new file or truncates an existing file\n",
        "\n",
        "with open(\"file.txt\", \"w\") as f:\n",
        "    f.write(\"Created using write mode.\")\n",
        "\n",
        "f = open(\"file.txt\",\"r\")\n",
        "print(f.read())\n",
        "\n",
        "# Append mode: Creates a new file or appends to an existing file\n",
        "\n",
        "with open(\"file.txt\", \"a\") as f:\n",
        "    f.write(\"Content appended to the file.\")\n",
        "\n",
        "f = open(\"file.txt\",\"r\")\n",
        "print(f.read())\n",
        "\n",
        "# Exclusive creation mode: Creates a new file, raises error if file exists\n",
        "\n",
        "try:\n",
        "    with open(\"file.txt\", \"x\") as f:\n",
        "        f.write(\"Created using exclusive mode.\")\n",
        "except FileExistsError:\n",
        "    print(\"Already exists.\")"
      ]
    },
    {
      "cell_type": "markdown",
      "source": [
        "Q 2.Write a Python program to read the contents of a file and print each line\n"
      ],
      "metadata": {
        "id": "cq9lhJkzOJXU"
      }
    },
    {
      "cell_type": "code",
      "source": [
        "def print_file_lines(file_path):\n",
        "    \"\"\"\n",
        "    Reads a file and prints each line.\n",
        "\n",
        "    Args:\n",
        "        file_path (str): The path to the file.\n",
        "    \"\"\"\n",
        "    try:\n",
        "        with open(file_path, 'r') as file:\n",
        "            for line in file:\n",
        "                print(line, end='')\n",
        "    except FileNotFoundError:\n",
        "        print(f\"Error: File not found: {file_path}\")\n",
        "    except Exception as e:\n",
        "        print(f\"An error occurred: {e}\")\n",
        "\n",
        "# Example usage:\n",
        "file_path = 'my_text_file.txt'\n",
        "\n",
        "# Create a dummy file for testing\n",
        "with open(file_path, 'w') as f:\n",
        "    f.write(\"This is the first line.\\n\")\n",
        "    f.write(\"This is the second line.\\n\")\n",
        "    f.write(\"This is the third line.\")\n",
        "\n",
        "print_file_lines(file_path)"
      ],
      "metadata": {
        "colab": {
          "base_uri": "https://localhost:8080/"
        },
        "id": "o-i_DhZbOCaP",
        "outputId": "41291ca3-a222-4cbc-8428-40e224c1e834"
      },
      "execution_count": 2,
      "outputs": [
        {
          "output_type": "stream",
          "name": "stdout",
          "text": [
            "This is the first line.\n",
            "This is the second line.\n",
            "This is the third line."
          ]
        }
      ]
    },
    {
      "cell_type": "markdown",
      "source": [
        "Q 3. How would you handle a case where the file doesn't exist while trying to open it for reading."
      ],
      "metadata": {
        "id": "TyfXTU9qOf1K"
      }
    },
    {
      "cell_type": "code",
      "source": [
        "try:\n",
        "    with open(\"abc.txt\", \"r\") as file:\n",
        "        data = file.read()\n",
        "except FileNotFoundError:\n",
        "    print(\"Not found\")"
      ],
      "metadata": {
        "colab": {
          "base_uri": "https://localhost:8080/"
        },
        "id": "gCWCWtBHOZqz",
        "outputId": "a51596e4-471b-4ee4-cb64-292bdf6625c8"
      },
      "execution_count": 3,
      "outputs": [
        {
          "output_type": "stream",
          "name": "stdout",
          "text": [
            "Not found\n"
          ]
        }
      ]
    },
    {
      "cell_type": "markdown",
      "source": [
        "Q 4.Write a Python script that reads from one file and writes its content to another file"
      ],
      "metadata": {
        "id": "0DIX9X7BOuK6"
      }
    },
    {
      "cell_type": "code",
      "source": [
        "def copy_file_content(source_file, destination_file):\n",
        "    \"\"\"\n",
        "    Copies the content of the source file to the destination file.\n",
        "\n",
        "    Args:\n",
        "        source_file (str): The path to the source file.\n",
        "        destination_file (str): The path to the destination file.\n",
        "    \"\"\"\n",
        "    try:\n",
        "        with open(source_file, 'r') as file_in, open(destination_file, 'w') as file_out:\n",
        "            for line in file_in:\n",
        "                file_out.write(line)\n",
        "        print(f\"Content of '{source_file}' copied to '{destination_file}' successfully.\")\n",
        "    except FileNotFoundError:\n",
        "        print(f\"Error: Source file '{source_file}' not found.\")\n",
        "    except Exception as e:\n",
        "        print(f\"An error occurred: {e}\")\n",
        "\n",
        "# Example usage:\n",
        "source_filename = 'source.txt'\n",
        "destination_filename = 'destination.txt'\n",
        "\n",
        "# Create a dummy source file for testing\n",
        "with open(source_filename, 'w') as f:\n",
        "    f.write(\"This is the content of the source file.\\n\")\n",
        "    f.write(\"Another line of content.\\n\")\n",
        "\n",
        "copy_file_content(source_filename, destination_filename)\n",
        "\n",
        "# Verify the content of the destination file\n",
        "with open(destination_filename, 'r') as f:\n",
        "    print(\"\\nContent of the destination file:\")\n",
        "    print(f.read())"
      ],
      "metadata": {
        "colab": {
          "base_uri": "https://localhost:8080/"
        },
        "id": "KHRMjHbUOtLO",
        "outputId": "963a1c37-5443-404a-88d7-648a4f070c85"
      },
      "execution_count": 4,
      "outputs": [
        {
          "output_type": "stream",
          "name": "stdout",
          "text": [
            "Content of 'source.txt' copied to 'destination.txt' successfully.\n",
            "\n",
            "Content of the destination file:\n",
            "This is the content of the source file.\n",
            "Another line of content.\n",
            "\n"
          ]
        }
      ]
    },
    {
      "cell_type": "markdown",
      "source": [
        "Q 5.How would you catch and handle division by zero error in Python"
      ],
      "metadata": {
        "id": "WkhoB66HO850"
      }
    },
    {
      "cell_type": "code",
      "source": [
        "try:\n",
        "    result = 10 / 0\n",
        "except ZeroDivisionError:\n",
        "    print(\"Error: Division by zero!\")\n",
        "else:\n",
        "    print(\"The result is:\", result)\n",
        "finally:\n",
        "    print(\"This block always executes\")"
      ],
      "metadata": {
        "colab": {
          "base_uri": "https://localhost:8080/"
        },
        "id": "gGJHoyHYO5GQ",
        "outputId": "c58f26a9-cc6f-4954-8f48-7e929d4f83f4"
      },
      "execution_count": 5,
      "outputs": [
        {
          "output_type": "stream",
          "name": "stdout",
          "text": [
            "Error: Division by zero!\n",
            "This block always executes\n"
          ]
        }
      ]
    },
    {
      "cell_type": "markdown",
      "source": [
        "Q 6.Write a Python program that logs an error message to a log file when a division by zero exception occurs"
      ],
      "metadata": {
        "id": "bwMYohuuPMQ9"
      }
    },
    {
      "cell_type": "code",
      "source": [
        "a = 15.0\n",
        "b = 5.0\n",
        "\n",
        "if b == 0:\n",
        "    print(\"Denominator is zero\")\n",
        "else:\n",
        "    print(a / b)"
      ],
      "metadata": {
        "colab": {
          "base_uri": "https://localhost:8080/"
        },
        "id": "A6kzKUUiPG-N",
        "outputId": "bbbd496e-6272-4711-ce70-8851112224c6"
      },
      "execution_count": 6,
      "outputs": [
        {
          "output_type": "stream",
          "name": "stdout",
          "text": [
            "3.0\n"
          ]
        }
      ]
    },
    {
      "cell_type": "markdown",
      "source": [
        "Q 7.How do you log information at different levels (INFO, ERROR, WARNING) in Python using the logging module.\n",
        "\n"
      ],
      "metadata": {
        "id": "Ix4itFa1PmQT"
      }
    },
    {
      "cell_type": "code",
      "source": [
        "import logging\n",
        "logging.basicConfig(level=logging.INFO, format='%(asctime)s - %(levelname)s - %(message)s')\n",
        "logging.info('This is an info message')\n",
        "logging.warning('This is a warning message')\n",
        "logging.error('This is an error message')"
      ],
      "metadata": {
        "colab": {
          "base_uri": "https://localhost:8080/"
        },
        "id": "f-BtXa9JQ_U4",
        "outputId": "940eddaf-f315-45ba-dc60-4991e26e6446"
      },
      "execution_count": 10,
      "outputs": [
        {
          "output_type": "stream",
          "name": "stderr",
          "text": [
            "WARNING:root:This is a warning message\n",
            "ERROR:root:This is an error message\n"
          ]
        }
      ]
    },
    {
      "cell_type": "markdown",
      "source": [
        " Q8.Write a program to handle a file opening error using exception handling"
      ],
      "metadata": {
        "id": "A9cyhqjLQuhJ"
      }
    },
    {
      "cell_type": "code",
      "source": [
        "def open_file_safely(filename):\n",
        "    \"\"\"\n",
        "    Opens a file and handles potential FileNotFoundError.\n",
        "\n",
        "    Args:\n",
        "        filename: The name of the file to open.\n",
        "\n",
        "    Returns:\n",
        "        A file object if the file is opened successfully, otherwise None.\n",
        "    \"\"\"\n",
        "    try:\n",
        "        file = open(filename, 'r')\n",
        "        return file\n",
        "    except FileNotFoundError:\n",
        "        print(f\"Error: The file '{filename}' was not found.\")\n",
        "        return None\n",
        "    except Exception as e:\n",
        "         print(f\"An unexpected error occurred: {e}\")\n",
        "         return None\n",
        "\n",
        "# Example usage:\n",
        "file_name = \"my_text_file.txt\"\n",
        "file = open_file_safely(file_name)\n",
        "\n",
        "if file:\n",
        "    print(f\"File '{file_name}' opened successfully.\")\n",
        "    file.close()\n",
        "else:\n",
        "    print(f\"Failed to open file '{file_name}'.\")"
      ],
      "metadata": {
        "colab": {
          "base_uri": "https://localhost:8080/"
        },
        "id": "5x18oLhKQWgk",
        "outputId": "554e4001-7e07-4f08-87ac-39eff0ef1a69"
      },
      "execution_count": 11,
      "outputs": [
        {
          "output_type": "stream",
          "name": "stdout",
          "text": [
            "File 'my_text_file.txt' opened successfully.\n"
          ]
        }
      ]
    },
    {
      "cell_type": "markdown",
      "source": [
        "Q 9.How can you read a file line by line and store its content in a list in Python"
      ],
      "metadata": {
        "id": "9_Xf2kyBSTMQ"
      }
    },
    {
      "cell_type": "code",
      "source": [
        "def file_to_list(file_path):\n",
        "    \"\"\"Reads a file line by line and stores each line in a list.\n",
        "\n",
        "    Args:\n",
        "        file_path (str): The path to the file.\n",
        "\n",
        "    Returns:\n",
        "        list: A list where each element is a line from the file,\n",
        "              or an empty list if an error occurs.\n",
        "    \"\"\"\n",
        "    try:\n",
        "        with open(file_path, 'r') as file:\n",
        "            lines = file.readlines()\n",
        "        return lines\n",
        "    except FileNotFoundError:\n",
        "        print(f\"Error: File not found at path: {file_path}\")\n",
        "        return []\n",
        "    except Exception as e:\n",
        "         print(f\"An error occurred: {e}\")\n",
        "         return []"
      ],
      "metadata": {
        "id": "Ly1YXoCxSKJ7"
      },
      "execution_count": 12,
      "outputs": []
    },
    {
      "cell_type": "markdown",
      "source": [
        "Q 10. How can you append data to an existing file in Python"
      ],
      "metadata": {
        "id": "T02npfAVS6Qe"
      }
    },
    {
      "cell_type": "code",
      "source": [
        "    file = open(\"my_file.txt\", \"a\")\n",
        "    file.write(\"This is the first line to append.\\n\")\n",
        "    file.write(\"This is the second line to append.\\n\")\n",
        "    file.close()\n",
        "    with open(\"my_file.txt\", \"a\") as file:\n",
        "     file.write(\"This is the first line to append using context manager.\\n\")\n",
        "     file.write(\"This is the second line to append using context manager.\\n\")\n"
      ],
      "metadata": {
        "id": "aqV5Uy0QSwH5"
      },
      "execution_count": 14,
      "outputs": []
    },
    {
      "cell_type": "markdown",
      "source": [
        "Q 11.Write a Python program that uses a try-except block to handle an error when attempting to access adictionary key that doesn't exist"
      ],
      "metadata": {
        "id": "dAcvccNUTnpV"
      }
    },
    {
      "cell_type": "code",
      "source": [
        "my_dict = {\"apple\": 1, \"banana\": 2, \"cherry\": 3}\n",
        "\n",
        "try:\n",
        "    # Attempt to access a key that does not exist\n",
        "    value = my_dict[\"date\"]\n",
        "    print(value)\n",
        "except KeyError:\n",
        "    # Handle the KeyError exception\n",
        "    print(\"Error: The key 'date' does not exist in the dictionary.\")"
      ],
      "metadata": {
        "colab": {
          "base_uri": "https://localhost:8080/"
        },
        "id": "uKecc70GTf6V",
        "outputId": "3687a586-8840-48cd-c727-dbfbb7b4f85f"
      },
      "execution_count": 15,
      "outputs": [
        {
          "output_type": "stream",
          "name": "stdout",
          "text": [
            "Error: The key 'date' does not exist in the dictionary.\n"
          ]
        }
      ]
    },
    {
      "cell_type": "markdown",
      "source": [
        "Q 12. Write a program that demonstrates using multiple except blocks to handle different types of exceptions"
      ],
      "metadata": {
        "id": "DGuOYAJiUAGY"
      }
    },
    {
      "cell_type": "code",
      "source": [
        "def perform_operations(data):\n",
        "    try:\n",
        "        result = 10 / data['value']\n",
        "        index = int(data['index'])\n",
        "        print(f\"Result of division: {result}\")\n",
        "        print(f\"Value at index {index}: {data['list'][index]}\")\n",
        "    except ZeroDivisionError:\n",
        "        print(\"Error: Cannot divide by zero.\")\n",
        "    except KeyError as e:\n",
        "        print(f\"Error: Key '{e}' not found in data.\")\n",
        "    except ValueError:\n",
        "        print(\"Error: Invalid value for index.\")\n",
        "    except IndexError:\n",
        "        print(\"Error: Index out of range.\")\n",
        "    except TypeError:\n",
        "        print(\"Error: Unsupported operation.\")\n",
        "    except Exception as e:\n",
        "         print(f\"An unexpected error occurred: {e}\")\n",
        "    else:\n",
        "        print(\"Operations completed successfully.\")\n",
        "    finally:\n",
        "        print(\"Execution completed.\")\n",
        "\n",
        "data1 = {'value': 2, 'index': '1', 'list': [1, 2, 3]}\n",
        "perform_operations(data1)\n",
        "\n",
        "data2 = {'value': 0, 'index': 1, 'list': [1, 2, 3]}\n",
        "perform_operations(data2)\n",
        "\n",
        "data3 = {'index': 1, 'list': [1, 2, 3]}\n",
        "perform_operations(data3)\n",
        "\n",
        "data4 = {'value': 2, 'index': 5, 'list': [1, 2, 3]}\n",
        "perform_operations(data4)\n",
        "\n",
        "data5 = {'value': 2, 'index': 1, 'list': \"string\"}\n",
        "perform_operations(data5)"
      ],
      "metadata": {
        "colab": {
          "base_uri": "https://localhost:8080/"
        },
        "id": "9S05o9QZT-5C",
        "outputId": "2112067e-eee5-4d48-a174-874f13debf9e"
      },
      "execution_count": 16,
      "outputs": [
        {
          "output_type": "stream",
          "name": "stdout",
          "text": [
            "Result of division: 5.0\n",
            "Value at index 1: 2\n",
            "Operations completed successfully.\n",
            "Execution completed.\n",
            "Error: Cannot divide by zero.\n",
            "Execution completed.\n",
            "Error: Key ''value'' not found in data.\n",
            "Execution completed.\n",
            "Result of division: 5.0\n",
            "Error: Index out of range.\n",
            "Execution completed.\n",
            "Result of division: 5.0\n",
            "Value at index 1: t\n",
            "Operations completed successfully.\n",
            "Execution completed.\n"
          ]
        }
      ]
    },
    {
      "cell_type": "markdown",
      "source": [
        "Q 13.How would you check if a file exists before attempting to read it in Python"
      ],
      "metadata": {
        "id": "E8MET1XfUwbD"
      }
    },
    {
      "cell_type": "code",
      "source": [
        "import os\n",
        "from pathlib import Path\n",
        "\n",
        "# Method 1: Using os.path.exists()\n",
        "file_path_os = \"my_file.txt\"\n",
        "if os.path.exists(file_path_os):\n",
        "    with open(file_path_os, 'r') as file:\n",
        "        content = file.read()\n",
        "        print(content)\n",
        "else:\n",
        "    print(f\"File '{file_path_os}' does not exist.\")\n",
        "\n",
        "# Method 2: Using pathlib.Path.exists()\n",
        "file_path_pathlib = Path(\"my_file.txt\")\n",
        "if file_path_pathlib.exists():\n",
        "    with open(file_path_pathlib, 'r') as file:\n",
        "        content = file.read()\n",
        "        print(content)\n",
        "else:\n",
        "    print(f\"File '{file_path_pathlib}' does not exist.\")"
      ],
      "metadata": {
        "colab": {
          "base_uri": "https://localhost:8080/"
        },
        "id": "8VKPOrGRUtGG",
        "outputId": "8e3d23ce-7353-4f0c-c71a-10d6d828f56a"
      },
      "execution_count": 17,
      "outputs": [
        {
          "output_type": "stream",
          "name": "stdout",
          "text": [
            "This is the first line to append.\n",
            "This is the second line to append.\n",
            "This is the first line to append using context manager.\n",
            "This is the second line to append using context manager.\n",
            "\n",
            "This is the first line to append.\n",
            "This is the second line to append.\n",
            "This is the first line to append using context manager.\n",
            "This is the second line to append using context manager.\n",
            "\n"
          ]
        }
      ]
    },
    {
      "cell_type": "markdown",
      "source": [
        "Q 14.Write a program that uses the logging module to log both informational and error messages\n"
      ],
      "metadata": {
        "id": "KleXuAbDU_pH"
      }
    },
    {
      "cell_type": "code",
      "source": [
        "import logging\n",
        "\n",
        "# Configure logging\n",
        "logging.basicConfig(\n",
        "    level=logging.DEBUG,\n",
        "    format='%(asctime)s - %(levelname)s - %(message)s',\n",
        "    filename='app.log',\n",
        "    filemode='w'\n",
        ")\n",
        "\n",
        "def divide(x, y):\n",
        "    \"\"\"Divides two numbers and logs the operation.\"\"\"\n",
        "    logging.info(f\"Dividing {x} by {y}\")\n",
        "    try:\n",
        "        result = x / y\n",
        "    except ZeroDivisionError:\n",
        "        logging.error(f\"Attempted to divide {x} by zero\")\n",
        "        return None\n",
        "    else:\n",
        "        logging.info(f\"Result: {result}\")\n",
        "        return result\n",
        "\n",
        "if __name__ == \"__main__\":\n",
        "    # Example usage\n",
        "    divide(10, 2)\n",
        "    divide(5, 0)\n",
        "    divide(15, 3)"
      ],
      "metadata": {
        "colab": {
          "base_uri": "https://localhost:8080/"
        },
        "id": "QAhy-9_CU-ND",
        "outputId": "92704157-468c-418a-c195-e310b7b038a2"
      },
      "execution_count": 18,
      "outputs": [
        {
          "output_type": "stream",
          "name": "stderr",
          "text": [
            "ERROR:root:Attempted to divide 5 by zero\n"
          ]
        }
      ]
    },
    {
      "cell_type": "markdown",
      "source": [
        "Q 15.Write a Python program that prints the content of a file and handles the case when the file is empty"
      ],
      "metadata": {
        "id": "cpvSp-nPVTY8"
      }
    },
    {
      "cell_type": "code",
      "source": [
        "def print_file_content(file_path):\n",
        "    \"\"\"\n",
        "    Prints the content of a file.\n",
        "    If the file is empty, it prints a message indicating that the file is empty.\n",
        "    \"\"\"\n",
        "    try:\n",
        "        with open(file_path, 'r') as file:\n",
        "            content = file.read()\n",
        "            if not content:\n",
        "                print(\"The file is empty.\")\n",
        "            else:\n",
        "                print(content)\n",
        "    except FileNotFoundError:\n",
        "        print(f\"Error: File not found: {file_path}\")\n",
        "\n",
        "# Example usage:\n",
        "file_path = \"my_file.txt\"\n",
        "\n",
        "# Create an empty file for testing\n",
        "with open(file_path, 'w') as f:\n",
        "    pass\n",
        "\n",
        "print(\"Content of empty file:\")\n",
        "print_file_content(file_path)\n",
        "\n",
        "# Write some content to the file\n",
        "with open(file_path, 'w') as f:\n",
        "    f.write(\"This is a test file.\\nIt has some content.\")\n",
        "\n",
        "print(\"\\nContent of file with text:\")\n",
        "print_file_content(file_path)\n",
        "\n",
        "# Test with a non-existent file\n",
        "print(\"\\nContent of non-existent file:\")\n",
        "print_file_content(\"non_existent_file.txt\")"
      ],
      "metadata": {
        "colab": {
          "base_uri": "https://localhost:8080/"
        },
        "id": "W6aOn6CZVNmj",
        "outputId": "542eac55-6d86-4fc1-b769-df27c63cb2d9"
      },
      "execution_count": 19,
      "outputs": [
        {
          "output_type": "stream",
          "name": "stdout",
          "text": [
            "Content of empty file:\n",
            "The file is empty.\n",
            "\n",
            "Content of file with text:\n",
            "This is a test file.\n",
            "It has some content.\n",
            "\n",
            "Content of non-existent file:\n",
            "Error: File not found: non_existent_file.txt\n"
          ]
        }
      ]
    },
    {
      "cell_type": "markdown",
      "source": [
        "Q 16.Demonstrate how to use memory profiling to check the memory usage of a small program\n"
      ],
      "metadata": {
        "id": "4OVKHeF3ViTe"
      }
    },
    {
      "cell_type": "code",
      "source": [
        "pip install memory-profiler\n"
      ],
      "metadata": {
        "colab": {
          "base_uri": "https://localhost:8080/"
        },
        "id": "hNe351WBX0x3",
        "outputId": "0681dd25-aa81-4646-fae3-3a5af5db39db"
      },
      "execution_count": 28,
      "outputs": [
        {
          "output_type": "stream",
          "name": "stdout",
          "text": [
            "Collecting memory-profiler\n",
            "  Downloading memory_profiler-0.61.0-py3-none-any.whl.metadata (20 kB)\n",
            "Requirement already satisfied: psutil in /usr/local/lib/python3.11/dist-packages (from memory-profiler) (5.9.5)\n",
            "Downloading memory_profiler-0.61.0-py3-none-any.whl (31 kB)\n",
            "Installing collected packages: memory-profiler\n",
            "Successfully installed memory-profiler-0.61.0\n"
          ]
        }
      ]
    },
    {
      "cell_type": "code",
      "source": [
        "   import memory_profiler\n",
        "\n",
        "   @memory_profiler.profile\n",
        "   def my_function():\n",
        "       # Some code that uses memory\n",
        "       data = [i for i in range(100000)]\n",
        "       del data # This line deletes the data to free up memory\n",
        "       return\n",
        "\n",
        "   my_function()"
      ],
      "metadata": {
        "colab": {
          "base_uri": "https://localhost:8080/"
        },
        "id": "GOA2QTwgYDpO",
        "outputId": "0c923d5e-1915-4b3d-88e4-aee0bb627f0d"
      },
      "execution_count": 29,
      "outputs": [
        {
          "output_type": "stream",
          "name": "stderr",
          "text": [
            "\n",
            "PYDEV DEBUGGER WARNING:\n",
            "sys.settrace() should not be used when the debugger is being used.\n",
            "This may cause the debugger to stop working correctly.\n",
            "If this is needed, please check: \n",
            "http://pydev.blogspot.com/2007/06/why-cant-pydev-debugger-work-with.html\n",
            "to see how to restore the debug tracing back correctly.\n",
            "Call Location:\n",
            "  File \"/usr/local/lib/python3.11/dist-packages/memory_profiler.py\", line 847, in enable\n",
            "    sys.settrace(self.trace_memory_usage)\n",
            "\n",
            "\n",
            "PYDEV DEBUGGER WARNING:\n",
            "sys.settrace() should not be used when the debugger is being used.\n",
            "This may cause the debugger to stop working correctly.\n",
            "If this is needed, please check: \n",
            "http://pydev.blogspot.com/2007/06/why-cant-pydev-debugger-work-with.html\n",
            "to see how to restore the debug tracing back correctly.\n",
            "Call Location:\n",
            "  File \"/usr/local/lib/python3.11/dist-packages/memory_profiler.py\", line 850, in disable\n",
            "    sys.settrace(self._original_trace_function)\n",
            "\n"
          ]
        },
        {
          "output_type": "stream",
          "name": "stdout",
          "text": [
            "ERROR: Could not find file <ipython-input-29-1f59830b5df8>\n",
            "NOTE: %mprun can only be used on functions defined in physical files, and not in the IPython environment.\n"
          ]
        }
      ]
    },
    {
      "cell_type": "markdown",
      "source": [
        " Q 17. Write a Python program to create and write a list of numbers to a file, one number per line\n",
        ""
      ],
      "metadata": {
        "id": "j9kb2AfuYRYS"
      }
    },
    {
      "cell_type": "code",
      "source": [
        "def write_numbers_to_file(filename, numbers):\n",
        "    \"\"\"\n",
        "    Writes a list of numbers to a file, one number per line.\n",
        "\n",
        "    Args:\n",
        "        filename (str): The name of the file to write to.\n",
        "        numbers (list): A list of numbers to write.\n",
        "    \"\"\"\n",
        "    with open(filename, 'w') as file:\n",
        "        for number in numbers:\n",
        "            file.write(str(number) + '\\n')\n",
        "\n",
        "if __name__ == \"__main__\":\n",
        "    numbers = [1, 2, 3, 4, 5, 6, 7, 8, 9, 10]\n",
        "    filename = \"numbers.txt\"\n",
        "    write_numbers_to_file(filename, numbers)\n",
        "    print(f\"Numbers written to '{filename}' successfully.\")"
      ],
      "metadata": {
        "colab": {
          "base_uri": "https://localhost:8080/"
        },
        "id": "xEgph71AYJbO",
        "outputId": "05f66144-13e9-4a2a-ba6a-bf2629514b3f"
      },
      "execution_count": 30,
      "outputs": [
        {
          "output_type": "stream",
          "name": "stdout",
          "text": [
            "Numbers written to 'numbers.txt' successfully.\n"
          ]
        }
      ]
    },
    {
      "cell_type": "markdown",
      "source": [
        "Q 18.How would you implement a basic logging setup that logs to a file with rotation after 1MB."
      ],
      "metadata": {
        "id": "c2Ab_xLQYpxt"
      }
    },
    {
      "cell_type": "code",
      "source": [
        "import logging\n",
        "from logging.handlers import RotatingFileHandler\n",
        "import os\n",
        "import datetime\n",
        "import gzip\n",
        "\n",
        "# Define settings or import them from a configuration module\n",
        "class Settings:  # Simple settings class for demonstration\n",
        "    STORAGE_DIR = \"/tmp\"\n",
        "\n",
        "settings = Settings()\n",
        "\n",
        "def rotator(source, dest):\n",
        "    with open(source, 'rt') as f_in:\n",
        "        with gzip.open(dest, 'wt') as f_out:\n",
        "            f_out.writelines(f_in.readlines())\n",
        "    os.remove(source)\n",
        "\n",
        "def namer(name):\n",
        "    return str.join('.', name.split('.')[0:2]) + \".\" + datetime.datetime.now().strftime(\"%Y-%m-%d\") + \".\" + name.split('.')[2] + \".gz\"\n",
        "\n",
        "logger = logging.getLogger(\"QueueCommunicator\")\n",
        "logger.setLevel(logging.INFO)\n",
        "# Assuming STORAGE_DIR is an attribute of the settings object\n",
        "handler = RotatingFileHandler(os.path.join(settings.STORAGE_DIR, 'listener.log'), backupCount=5, maxBytes=120000000)\n",
        "handler.setFormatter(logging.Formatter(fmt='%(asctime)s,%(msecs)d %(process)d %(threadName)s %(name)s %(levelname)s %(message)s',\n",
        "                                        datefmt='%Y-%m-%d %H:%M:%S'))\n",
        "handler.rotator = rotator\n",
        "handler.namer = namer\n",
        "logger.addHandler(handler)"
      ],
      "metadata": {
        "id": "PfatmdLYZGEp"
      },
      "execution_count": 35,
      "outputs": []
    },
    {
      "cell_type": "markdown",
      "source": [
        "Q 19.Write a program that handles both IndexError and KeyError using a try-except block\n"
      ],
      "metadata": {
        "id": "EBusP3wBaa_H"
      }
    },
    {
      "cell_type": "code",
      "source": [
        "# Example list and dictionary\n",
        "my_list = [1, 2, 3]\n",
        "my_dict = {'a': 1, 'b': 2}\n",
        "\n",
        "try:\n",
        "    # Attempt to access an invalid index (will raise IndexError)\n",
        "    print(my_list[5])\n",
        "except IndexError:\n",
        "    print(\"IndexError: The list index is out of range!\")\n",
        "\n",
        "try:\n",
        "    # Attempt to access a non-existent key (will raise KeyError)\n",
        "    print(my_dict['z'])\n",
        "except KeyError:\n",
        "    print(\"KeyError: The key does not exist in the dictionary!\")\n",
        "\n",
        "# This line will run regardless of the exceptions above\n",
        "print(\"Program continues running after handling exceptions.\")\n"
      ],
      "metadata": {
        "colab": {
          "base_uri": "https://localhost:8080/"
        },
        "id": "H0C12lmeZzq9",
        "outputId": "2e2f3caf-ee62-4248-b0eb-f62c88b1cabf"
      },
      "execution_count": 36,
      "outputs": [
        {
          "output_type": "stream",
          "name": "stdout",
          "text": [
            "IndexError: The list index is out of range!\n",
            "KeyError: The key does not exist in the dictionary!\n",
            "Program continues running after handling exceptions.\n"
          ]
        }
      ]
    },
    {
      "cell_type": "markdown",
      "source": [
        " Q 20. How would you open a file and read its contents using a context manager in Python"
      ],
      "metadata": {
        "id": "qSBx66SIbOfr"
      }
    },
    {
      "cell_type": "code",
      "source": [
        "# Open and read a file using a context manager\n",
        "# Check if the file exists first\n",
        "import os\n",
        "\n",
        "filename = 'example.txt'\n",
        "\n",
        "if os.path.exists(filename):\n",
        "    with open(filename, 'r') as file:\n",
        "        contents = file.read()\n",
        "        print(contents)\n",
        "else:\n",
        "    print(f\"File '{filename}' not found. Creating an empty file...\")\n",
        "    # Create an empty file if it doesn't exist\n",
        "    open(filename, 'w').close()\n",
        "    print(f\"Empty file '{filename}' created.\")"
      ],
      "metadata": {
        "colab": {
          "base_uri": "https://localhost:8080/"
        },
        "id": "E5MGbJvybfYM",
        "outputId": "cb34f455-dba7-420e-e256-d851788cf975"
      },
      "execution_count": 38,
      "outputs": [
        {
          "output_type": "stream",
          "name": "stdout",
          "text": [
            "File 'example.txt' not found. Creating an empty file...\n",
            "Empty file 'example.txt' created.\n"
          ]
        }
      ]
    },
    {
      "cell_type": "markdown",
      "source": [
        " Q 21. Write a Python program that reads a file and prints the number of occurrences of a specific word"
      ],
      "metadata": {
        "id": "pn3smOrnbwwC"
      }
    },
    {
      "cell_type": "code",
      "source": [
        "# Program to count occurrences of a word in a file\n",
        "\n",
        "def count_word_in_file(file_path, target_word):\n",
        "    count = 0\n",
        "    with open(file_path, 'r') as file:\n",
        "        for line in file:\n",
        "            words = line.lower().split()  # Convert to lowercase and split into words\n",
        "            count += words.count(target_word.lower())  # Count occurrences in the line\n",
        "    return count\n",
        "\n",
        "# Example usage\n",
        "file_path = 'example.txt'  # Replace with your file name\n",
        "word_to_search = 'python'  # Replace with the word you want to search\n",
        "\n",
        "occurrences = count_word_in_file(file_path, word_to_search)\n",
        "print(f\"The word '{word_to_search}' occurs {occurrences} times in the file.\")\n"
      ],
      "metadata": {
        "colab": {
          "base_uri": "https://localhost:8080/"
        },
        "id": "cxWixA5hbtbT",
        "outputId": "46e8e5e4-a989-4a1b-b666-d8036de0ee1f"
      },
      "execution_count": 39,
      "outputs": [
        {
          "output_type": "stream",
          "name": "stdout",
          "text": [
            "The word 'python' occurs 0 times in the file.\n"
          ]
        }
      ]
    },
    {
      "cell_type": "markdown",
      "source": [
        "Q 22.How can you check if a file is empty before attempting to read its contents\n"
      ],
      "metadata": {
        "id": "LlrjZiZncMnO"
      }
    },
    {
      "cell_type": "code",
      "source": [
        "import os\n",
        "\n",
        "file_path = 'example.txt'\n",
        "\n",
        "# Check if file exists and its size\n",
        "if os.path.exists(file_path):\n",
        "    if os.path.getsize(file_path) == 0:\n",
        "        print(\"The file is empty.\")\n",
        "    else:\n",
        "        print(\"The file is not empty. Proceeding to read...\")\n",
        "        with open(file_path, 'r') as file:\n",
        "            contents = file.read()\n",
        "            print(contents)\n",
        "else:\n",
        "    print(\"File does not exist.\")\n"
      ],
      "metadata": {
        "colab": {
          "base_uri": "https://localhost:8080/"
        },
        "id": "h97gRyZmcJr6",
        "outputId": "6bd94a46-66d3-4a6c-8e32-73e3449270b5"
      },
      "execution_count": 40,
      "outputs": [
        {
          "output_type": "stream",
          "name": "stdout",
          "text": [
            "The file is empty.\n"
          ]
        }
      ]
    },
    {
      "cell_type": "markdown",
      "source": [
        "Q 23. Write a Python program that writes to a log file when an error occurs during file handling."
      ],
      "metadata": {
        "id": "-KsW0AJLcZUt"
      }
    },
    {
      "cell_type": "code",
      "source": [
        "def read_file(file_path):\n",
        "    try:\n",
        "        with open(file_path, 'r') as file:\n",
        "            contents = file.read()\n",
        "            print(contents)\n",
        "    except Exception as e:\n",
        "        # Log the error to a file\n",
        "        with open('error_log.txt', 'a') as log_file:\n",
        "            log_file.write(f\"Error occurred while reading {file_path}: {str(e)}\\n\")\n",
        "        print(\"An error occurred. Check error_log.txt for details.\")\n",
        "\n",
        "# Example usage\n",
        "read_file('non_existing_file.txt')  # This will cause an error and log it\n"
      ],
      "metadata": {
        "colab": {
          "base_uri": "https://localhost:8080/"
        },
        "id": "Meh30zoIcYcB",
        "outputId": "067b2986-2cbc-470f-c7a9-2f2d751ee361"
      },
      "execution_count": 41,
      "outputs": [
        {
          "output_type": "stream",
          "name": "stdout",
          "text": [
            "An error occurred. Check error_log.txt for details.\n"
          ]
        }
      ]
    },
    {
      "cell_type": "markdown",
      "source": [
        "####################END##############################"
      ],
      "metadata": {
        "id": "oh9CRhWNclwM"
      }
    },
    {
      "cell_type": "code",
      "source": [],
      "metadata": {
        "id": "2_YYQSahck6S"
      },
      "execution_count": null,
      "outputs": []
    }
  ]
}